{
 "cells": [
  {
   "cell_type": "markdown",
   "metadata": {},
   "source": [
    "# Data Validation\n",
    "\n",
    "This notebook validates data quality in `silver/` and `gold/` tables, logging issues to `silver/errors/`.\n",
    "\n",
    "## Inputs\n",
    "- `silver/<table>/`\n",
    "- `gold/<table>/`\n",
    "\n",
    "## Outputs\n",
    "- `silver/errors/` (validation issues)\n",
    "\n",
    "## Dependencies\n",
    "- `pyspark`\n",
    "\n",
    "## Environment\n",
    "- Uses `.env` for Blob Storage credentials"
   ]
  },
  {
   "cell_type": "code",
   "execution_count": null,
   "metadata": {},
   "outputs": [],
   "source": [
    "from pyspark.sql import SparkSession\n",
    "from pyspark.sql.functions import col, lit, current_timestamp\n",
    "from dotenv import load_dotenv\n",
    "import os\n",
    "\n",
    "# Load environment variables\n",
    "load_dotenv()\n",
    "AZURE_CONN_STR = os.getenv(\"AZURE_STORAGE_CONNECTION_STRING\")\n",
    "CONTAINER_NAME = os.getenv(\"CONTAINER_NAME\")\n",
    "AZURE_STORAGE_ACCOUNT_NAME = os.getenv(\"AZURE_STORAGE_ACCOUNT_NAME\")\n",
    "\n",
    "if not all([AZURE_CONN_STR, CONTAINER_NAME, AZURE_STORAGE_ACCOUNT_NAME]):\n",
    "    raise ValueError(\"Missing environment variables. Check .env file.\")\n",
    "\n",
    "# Initialize Spark session\n",
    "spark = SparkSession.builder \\\n",
    "    .appName(\"ValidateData\") \\\n",
    "    .config(\"spark.hadoop.fs.azure.account.auth.type\", \"SAS\") \\\n",
    "    .config(\"spark.hadoop.fs.azure.sas.token.provider.type\", \"org.apache.hadoop.fs.azure.SimpleSasTokenProvider\") \\\n",
    "    .config(\"spark.hadoop.fs.azure.sas.fixed.token\", AZURE_CONN_STR) \\\n",
    "    .getOrCreate()\n",
    "\n",
    "# Define blob storage paths\n",
    "blob_base_path = f\"wasbs://{CONTAINER_NAME}@{AZURE_STORAGE_ACCOUNT_NAME}.blob.core.windows.net\"\n",
    "silver_path = f\"{blob_base_path}/silver\"\n",
    "gold_path = f\"{blob_base_path}/gold\"\n",
    "error_path = f\"{silver_path}/errors\"\n",
    "\n",
    "# Validate silver tables\n",
    "silver_tables = [\"donations\", \"projects\", \"campaigns\", \"volunteers\", \"volunteer_shifts\", \"beneficiaries\", \"transactions\", \"crm_data\"]\n",
    "for table in silver_tables:\n",
    "    df = spark.read.parquet(f\"{silver_path}/{table}\")\n",
    "    error_df = df.filter(col(df.columns[0]).isNull()).withColumn(\"error\", lit(f\"Missing primary key in {table}\")) \\\n",
    "        .withColumn(\"ingest_timestamp\", current_timestamp())\n",
    "    error_df.write.mode(\"append\").parquet(f\"{error_path}/{table}_validation\")\n",
    "\n",
    "# Validate gold tables\n",
    "gold_tables = [\n",
    "    \"donations_per_project\", \"volunteer_hours_per_project\", \"donations_by_region\", \n",
    "    \"campaign_performance\", \"donor_activity\", \"volunteer_engagement\", \n",
    "    \"beneficiary_demographics\", \"transaction_success_rate\", \"donation_trends\", \n",
    "    \"active_campaigns\", \"donor_engagement\", \"predicted_donations\"\n",
    "]\n",
    "for table in gold_tables:\n",
    "    try:\n",
    "        df = spark.read.parquet(f\"{gold_path}/{table}\")\n",
    "        error_df = df.filter(col(df.columns[0]).isNull()).withColumn(\"error\", lit(f\"Missing primary key in {table}\")) \\\n",
    "            .withColumn(\"ingest_timestamp\", current_timestamp())\n",
    "        error_df.write.mode(\"append\").parquet(f\"{error_path}/{table}_validation\")\n",
    "    except Exception as e:\n",
    "        print(f\"Validation error for {table}: {str(e)}\")\n",
    "\n",
    "spark.stop()\n",
    "print(\"Data validation completed.\")"
   ]
  }
 ],
 "metadata": {
  "kernelspec": {
   "display_name": "Python 3",
   "language": "python",
   "name": "python3"
  },
  "language_info": {
   "codemirror_mode": {
    "name": "ipython",
    "version": 3
   },
   "file_extension": ".py",
   "mimetype": "text/x-python",
   "name": "python",
   "nbconvert_exporter": "python",
   "pygments_lexer": "ipython3",
   "version": "3.8.10"
  }
 },
 "nbformat": 4,
 "nbformat_minor": 4
}